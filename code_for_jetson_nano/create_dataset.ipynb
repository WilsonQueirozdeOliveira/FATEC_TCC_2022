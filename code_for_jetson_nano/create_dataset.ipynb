{
 "cells": [
  {
   "cell_type": "code",
   "execution_count": null,
   "id": "e3838d2c",
   "metadata": {},
   "outputs": [],
   "source": [
    "pip install ipyfilechooser"
   ]
  },
  {
   "cell_type": "code",
   "execution_count": 25,
   "id": "2e9096b8",
   "metadata": {},
   "outputs": [
    {
     "name": "stdout",
     "output_type": "stream",
     "text": [
      "/home/jetson/FATEC_TCC_2022/code_for_jetson_nano\n"
     ]
    },
    {
     "data": {
      "application/vnd.jupyter.widget-view+json": {
       "model_id": "1be66e470410459dbd9375c40352586c",
       "version_major": 2,
       "version_minor": 0
      },
      "text/plain": [
       "GridspecLayout(children=(VBox(children=(Text(value='/media/jetson/GRMCULXFRER_BR_DVD/jetson_data', description…"
      ]
     },
     "metadata": {},
     "output_type": "display_data"
    },
    {
     "name": "stdout",
     "output_type": "stream",
     "text": [
      "GST_ARGUS: Cleaning up\n",
      "CONSUMER: Done Success\n",
      "GST_ARGUS: Done Success\n",
      "GST_ARGUS: Creating output stream\n",
      "CONSUMER: Waiting until producer is connected...\n",
      "GST_ARGUS: Available Sensor modes :\n",
      "GST_ARGUS: 3264 x 2464 FR = 21.000000 fps Duration = 47619048 ; Analog Gain range min 1.000000, max 10.625000; Exposure Range min 13000, max 683709000;\n",
      "\n",
      "GST_ARGUS: 3264 x 1848 FR = 28.000001 fps Duration = 35714284 ; Analog Gain range min 1.000000, max 10.625000; Exposure Range min 13000, max 683709000;\n",
      "\n",
      "GST_ARGUS: 1920 x 1080 FR = 29.999999 fps Duration = 33333334 ; Analog Gain range min 1.000000, max 10.625000; Exposure Range min 13000, max 683709000;\n",
      "\n",
      "GST_ARGUS: 1640 x 1232 FR = 29.999999 fps Duration = 33333334 ; Analog Gain range min 1.000000, max 10.625000; Exposure Range min 13000, max 683709000;\n",
      "\n",
      "GST_ARGUS: 1280 x 720 FR = 59.999999 fps Duration = 16666667 ; Analog Gain range min 1.000000, max 10.625000; Exposure Range min 13000, max 683709000;\n",
      "\n",
      "GST_ARGUS: 1280 x 720 FR = 120.000005 fps Duration = 8333333 ; Analog Gain range min 1.000000, max 10.625000; Exposure Range min 13000, max 683709000;\n",
      "\n",
      "GST_ARGUS: Running with following settings:\n",
      "   Camera index = 0 \n",
      "   Camera mode  = 0 \n",
      "   Output Stream W = 3264 H = 2464 \n",
      "   seconds to Run    = 0 \n",
      "   Frame Rate = 21.000000 \n",
      "GST_ARGUS: Setup Complete, Starting captures for 0 seconds\n",
      "GST_ARGUS: Starting repeat capture requests.\n",
      "CONSUMER: Producer has connected; continuing.\n"
     ]
    },
    {
     "name": "stderr",
     "output_type": "stream",
     "text": [
      "[ WARN:0] global /home/jetson/opencv/modules/videoio/src/cap_gstreamer.cpp (1081) open OpenCV | GStreamer warning: Cannot query video position: status=0, value=-1, duration=-1\n"
     ]
    }
   ],
   "source": [
    "#data and OS\n",
    "import os\n",
    "import ipywidgets\n",
    "from ipywidgets import GridspecLayout\n",
    "import IPython\n",
    "import time\n",
    "\n",
    "# computer vision\n",
    "import cv2\n",
    "import numpy as np\n",
    "from PIL import Image\n",
    "\n",
    "print(os.getcwd())\n",
    "\n",
    "path_data = ipywidgets.Text(\n",
    "    value='/media/jetson/GRMCULXFRER_BR_DVD/jetson_data',\n",
    "    placeholder='Type something',\n",
    "    description='path_data:',\n",
    "    disabled=False\n",
    ")\n",
    "\n",
    "button1 = ipywidgets.Button(\n",
    "    description='New image'\n",
    ")\n",
    "\n",
    "button2 = ipywidgets.Button(\n",
    "    description='save'\n",
    ")\n",
    "\n",
    "hbox_1 = ipywidgets.HBox([button1,button2])\n",
    "\n",
    "button3 = ipywidgets.Button(\n",
    "    description='3'\n",
    ")\n",
    "\n",
    "button4 = ipywidgets.Button(\n",
    "    description='4'\n",
    ")\n",
    "\n",
    "hbox_2 = ipywidgets.HBox([button3,button4])\n",
    "\n",
    "data_folder = ipywidgets.Select(\n",
    "    options=['Pare', 'linhas', 'cones'],\n",
    "    value='Pare',\n",
    "    # rows=10,\n",
    "    description='Data folder:',\n",
    "    disabled=False\n",
    ")\n",
    "\n",
    "vbox_1 = ipywidgets.VBox([path_data,data_folder,hbox_1,hbox_2])\n",
    "\n",
    "output_1 = ipywidgets.Output()\n",
    "output_2 = ipywidgets.Output()\n",
    "output_3 = ipywidgets.Output()\n",
    "\n",
    "grid_0 = GridspecLayout(2, 2, height='785px')#(2 lines, 2 colunes)\n",
    "\n",
    "grid_0[0, 0] = vbox_1\n",
    "grid_0[0, 1] = output_1\n",
    "grid_0[1, 0] = output_2\n",
    "grid_0[1, 1] = output_3\n",
    "\n",
    "IPython.display.display(grid_0)\n",
    "\n",
    "\n",
    "\n",
    "\n",
    "def on_button1_clicked(b):\n",
    "    cap = cv2.VideoCapture('nvarguscamerasrc ! video/x-raw(memory:NVMM), width=3280, height=2464, format=NV12,framerate=21/1 ! nvvidconv flip-method=0 ! video/x-raw, width=320, height=240, format=BGRx ! videoconvert ! video/x-raw,format=BGR ! appsink')\n",
    "    time.sleep(5)\n",
    "    \n",
    "    ret, frame = cap.read()\n",
    "    while not ret:\n",
    "        ret, frame = cap.read()   \n",
    "    _,ret_array = cv2.imencode('.jpg', frame)\n",
    "    \n",
    "    cv2.imwrite(\"frame.jpg\",frame)\n",
    "\n",
    "    camera = IPython.display.Image(data=ret_array)\n",
    "        \n",
    "    \n",
    "    with output_1:\n",
    "        output_1.clear_output()\n",
    "        IPython.display.display(camera)\n",
    "        #print(path.value)\n",
    "        print('New image')\n",
    "        \n",
    "    cap.release()\n",
    "        \n",
    "button1.on_click(on_button1_clicked)\n",
    "\n",
    "with output_2:\n",
    "    print('output_2')\n",
    "    \n",
    "with output_3:\n",
    "        print('output_3')\n",
    "        "
   ]
  },
  {
   "cell_type": "code",
   "execution_count": null,
   "id": "68e686eb",
   "metadata": {},
   "outputs": [],
   "source": []
  }
 ],
 "metadata": {
  "kernelspec": {
   "display_name": "Python 3 (ipykernel)",
   "language": "python",
   "name": "python3"
  },
  "language_info": {
   "codemirror_mode": {
    "name": "ipython",
    "version": 3
   },
   "file_extension": ".py",
   "mimetype": "text/x-python",
   "name": "python",
   "nbconvert_exporter": "python",
   "pygments_lexer": "ipython3",
   "version": "3.8.10"
  }
 },
 "nbformat": 4,
 "nbformat_minor": 5
}
