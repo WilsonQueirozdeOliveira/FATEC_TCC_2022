{
 "cells": [
  {
   "cell_type": "markdown",
   "id": "0ae91b52",
   "metadata": {},
   "source": [
    "color detection adjustment"
   ]
  },
  {
   "cell_type": "code",
   "execution_count": null,
   "id": "0a313115",
   "metadata": {},
   "outputs": [],
   "source": [
    "import cv2\n",
    "import numpy as np\n",
    "import IPython\n",
    "from PIL import Image\n",
    "import ipywidgets\n",
    "\n",
    "            #camera = IPython.display.Image(data=ret_array)\n",
    "            \n",
    "            #im_rgb = cv2.cvtColor(frame, cv2.COLOR_BGR2RGB)\n",
    "            \n",
    "            #hsv = cv2.cvtColor(frame, cv2.COLOR_BGR2HSV)\n",
    "            \n",
    "            #output_camera = ipywidgets.Output()\n",
    "            #output_orange = ipywidgets.Output()\n",
    "            #output_green = ipywidgets.Output()\n",
    "            \n",
    "            #with output_camera:\n",
    "                #output_camera.clear_output()\n",
    "                #IPython.display.display(camera)\n",
    "            \n",
    "            #vbox_1 =  ipywidgets.VBox([ipywidgets.Label('camera:'),output_camera])\n",
    "            \n",
    "            #display.display(vbox_1,output_orange,output_green)\n",
    "            #display.clear_output(wait=True)"
   ]
  },
  {
   "cell_type": "code",
   "execution_count": 23,
   "id": "2258e498",
   "metadata": {
    "scrolled": false
   },
   "outputs": [
    {
     "data": {
      "application/vnd.jupyter.widget-view+json": {
       "model_id": "6c0083d2231a458aa4b2ea280d73a929",
       "version_major": 2,
       "version_minor": 0
      },
      "text/plain": [
       "GridspecLayout(children=(HBox(children=(Output(),), layout=Layout(grid_area='widget001', height='auto', width=…"
      ]
     },
     "metadata": {},
     "output_type": "display_data"
    },
    {
     "name": "stdout",
     "output_type": "stream",
     "text": [
      "GST_ARGUS: Cleaning up\n",
      "CONSUMER: Done Success\n",
      "GST_ARGUS: Done Success\n",
      "GST_ARGUS: Creating output stream\n",
      "CONSUMER: Waiting until producer is connected...\n",
      "GST_ARGUS: Available Sensor modes :\n",
      "GST_ARGUS: 3264 x 2464 FR = 21.000000 fps Duration = 47619048 ; Analog Gain range min 1.000000, max 10.625000; Exposure Range min 13000, max 683709000;\n",
      "\n",
      "GST_ARGUS: 3264 x 1848 FR = 28.000001 fps Duration = 35714284 ; Analog Gain range min 1.000000, max 10.625000; Exposure Range min 13000, max 683709000;\n",
      "\n",
      "GST_ARGUS: 1920 x 1080 FR = 29.999999 fps Duration = 33333334 ; Analog Gain range min 1.000000, max 10.625000; Exposure Range min 13000, max 683709000;\n",
      "\n",
      "GST_ARGUS: 1640 x 1232 FR = 29.999999 fps Duration = 33333334 ; Analog Gain range min 1.000000, max 10.625000; Exposure Range min 13000, max 683709000;\n",
      "\n",
      "GST_ARGUS: 1280 x 720 FR = 59.999999 fps Duration = 16666667 ; Analog Gain range min 1.000000, max 10.625000; Exposure Range min 13000, max 683709000;\n",
      "\n",
      "GST_ARGUS: 1280 x 720 FR = 120.000005 fps Duration = 8333333 ; Analog Gain range min 1.000000, max 10.625000; Exposure Range min 13000, max 683709000;\n",
      "\n",
      "GST_ARGUS: Running with following settings:\n",
      "   Camera index = 0 \n",
      "   Camera mode  = 0 \n",
      "   Output Stream W = 3264 H = 2464 \n",
      "   seconds to Run    = 0 \n",
      "   Frame Rate = 21.000000 \n",
      "GST_ARGUS: Setup Complete, Starting captures for 0 seconds\n",
      "GST_ARGUS: Starting repeat capture requests.\n",
      "CONSUMER: Producer has connected; continuing.\n"
     ]
    },
    {
     "name": "stderr",
     "output_type": "stream",
     "text": [
      "[ WARN:0] global /home/jetson/opencv/modules/videoio/src/cap_gstreamer.cpp (1081) open OpenCV | GStreamer warning: Cannot query video position: status=0, value=-1, duration=-1\n"
     ]
    },
    {
     "name": "stdout",
     "output_type": "stream",
     "text": [
      "Released Video Resource from KeyboardInterrupt\n"
     ]
    }
   ],
   "source": [
    "import cv2\n",
    "import numpy as np\n",
    "import IPython\n",
    "from IPython import display\n",
    "from PIL import Image\n",
    "import ipywidgets\n",
    "from ipywidgets import GridspecLayout\n",
    "\n",
    "\n",
    "#IPython.display.clear_output()\n",
    "output_camera = ipywidgets.Output()\n",
    "output_orange = ipywidgets.Output()\n",
    "output_green = ipywidgets.Output()\n",
    "\n",
    "hbox_1 = ipywidgets.HBox([output_camera,],layout=ipywidgets.Layout(width='320px', height='240px',))#width='320px', height='240px'\n",
    "hbox_2 = ipywidgets.HBox([output_orange,],layout=ipywidgets.Layout(width='320px', height='240px',))#width='320px', height='240px'\n",
    "hbox_3 = ipywidgets.HBox([output_green,],layout=ipywidgets.Layout(width='320px', height='240px',))#width='320px', height='240px'\n",
    "\n",
    "#hbox_0 = ipywidgets.HBox([output_camera,output_orange,output_green,],layout=ipywidgets.Layout(width='960px',height='240px',))#width='320px', height='240px'\n",
    "\n",
    "# create a 10x2 grid layout\n",
    "grid = GridspecLayout(2, 3)\n",
    "# fill it in with widgets\n",
    "grid[:, 0] = hbox_1\n",
    "grid[0, 1] = hbox_2\n",
    "grid[0, 2] = hbox_3\n",
    "# set the widget properties\n",
    "grid[:, 0].layout.height = 'auto'\n",
    "\n",
    "IPython.display.display(grid)\n",
    "\n",
    "def showVideo():\n",
    "    try:\n",
    "        cap = cv2.VideoCapture('nvarguscamerasrc ! video/x-raw(memory:NVMM), width=3280, height=2464, format=NV12,framerate=21/1 ! nvvidconv flip-method=0 ! video/x-raw, width=320, height=240, format=BGRx ! videoconvert ! video/x-raw,format=BGR ! appsink')\n",
    "    except:\n",
    "        print(\"Cannot Open Device\")\n",
    "    try:\n",
    "        ret, frame = cap.read()\n",
    "        \n",
    "        while(ret==True):#while(ret==True):\n",
    "            ret, frame = cap.read()\n",
    "            \n",
    "            if not ret:\n",
    "                cap.release()\n",
    "                print (\"Released Video Resource\")\n",
    "                break\n",
    "                \n",
    "            _,ret_array = cv2.imencode('.jpg', frame) \n",
    "            \n",
    "            camera = IPython.display.Image(data=ret_array)\n",
    "            \n",
    "            cv2.imwrite(\"frame.jpg\",frame)\n",
    "            \n",
    "            img = cv2.imread(\"frame.jpg\")\n",
    "            hsv = cv2.cvtColor(img, cv2.COLOR_BGR2HSV)\n",
    "            mask = cv2.inRange(hsv,(0, 100, 90), (5, 255, 200) )\n",
    "            cv2.imwrite(\"mask_orange.jpg\",mask)\n",
    "            mask=cv2.imread(\"mask_orange.jpg\", -1)\n",
    "            _,mask = cv2.imencode('.jpg', mask)\n",
    "            img_orange = IPython.display.Image(data=mask)\n",
    "            \n",
    "            img = cv2.imread(\"frame.jpg\")\n",
    "            hsv = cv2.cvtColor(img, cv2.COLOR_BGR2HSV)\n",
    "            mask = cv2.inRange(hsv,(30, 30, 10), (60, 255, 255) )\n",
    "            cv2.imwrite(\"mask_green.jpg\",mask)\n",
    "            mask=cv2.imread(\"mask_green.jpg\", -1)\n",
    "            _,mask = cv2.imencode('.jpg', mask)\n",
    "            img_green = IPython.display.Image(data=mask)\n",
    "            \n",
    "            with output_camera:\n",
    "                output_camera.clear_output()\n",
    "                IPython.display.display(camera)\n",
    "                \n",
    "            with output_orange:\n",
    "                output_orange.clear_output()\n",
    "                IPython.display.display(img_orange)\n",
    "                \n",
    "            with output_green:\n",
    "                output_green.clear_output()\n",
    "                IPython.display.display(img_green)\n",
    "                \n",
    "            \n",
    "            \n",
    "    except KeyboardInterrupt:\n",
    "        cap.release()\n",
    "        print(\"Released Video Resource from KeyboardInterrupt\")\n",
    "        \n",
    "showVideo()"
   ]
  },
  {
   "cell_type": "code",
   "execution_count": null,
   "id": "f5f005d7",
   "metadata": {},
   "outputs": [],
   "source": [
    "import cv2\n",
    "import numpy as np\n",
    "from IPython import display\n",
    "from PIL import Image\n",
    "\n",
    "def showVideo():\n",
    "    try:\n",
    "        cap = cv2.VideoCapture('nvarguscamerasrc ! video/x-raw(memory:NVMM), width=3280, height=2464, format=NV12,framerate=21/1 ! nvvidconv flip-method=0 ! video/x-raw, width=320, height=240, format=BGRx ! videoconvert ! video/x-raw,format=BGR ! appsink')\n",
    "    except:\n",
    "        print(\"Cannot Open Device\")\n",
    "    try:\n",
    "        ret, frame = cap.read()\n",
    "        \n",
    "        while(ret==True):\n",
    "            ret, frame = cap.read()\n",
    "            \n",
    "            if not ret:\n",
    "                cap.release()\n",
    "                print (\"Released Video Resource\")\n",
    "                break\n",
    "                \n",
    "            _,ret_array = cv2.imencode('.jpg', frame) \n",
    "            \n",
    "            i = display.Image(data=ret_array)\n",
    "            display.display(i)\n",
    "            display.clear_output(wait=True)\n",
    "            \n",
    "    except KeyboardInterrupt:\n",
    "        cap.release()\n",
    "        print(\"Released Video Resource from KeyboardInterrupt\")\n",
    "        \n",
    "showVideo()"
   ]
  },
  {
   "cell_type": "code",
   "execution_count": null,
   "id": "b9fdb481",
   "metadata": {},
   "outputs": [],
   "source": []
  }
 ],
 "metadata": {
  "kernelspec": {
   "display_name": "Python 3 (ipykernel)",
   "language": "python",
   "name": "python3"
  },
  "language_info": {
   "codemirror_mode": {
    "name": "ipython",
    "version": 3
   },
   "file_extension": ".py",
   "mimetype": "text/x-python",
   "name": "python",
   "nbconvert_exporter": "python",
   "pygments_lexer": "ipython3",
   "version": "3.8.10"
  }
 },
 "nbformat": 4,
 "nbformat_minor": 5
}
