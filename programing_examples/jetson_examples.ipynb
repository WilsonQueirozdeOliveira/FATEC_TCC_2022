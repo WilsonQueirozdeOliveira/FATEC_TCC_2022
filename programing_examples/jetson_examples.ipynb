{
 "cells": [
  {
   "cell_type": "code",
   "execution_count": null,
   "id": "405ad35d",
   "metadata": {},
   "outputs": [],
   "source": [
    "import sys\n",
    "print(sys.version)"
   ]
  },
  {
   "cell_type": "code",
   "execution_count": null,
   "id": "93e2b534",
   "metadata": {},
   "outputs": [],
   "source": [
    "import cv2\n"
   ]
  },
  {
   "cell_type": "code",
   "execution_count": 6,
   "id": "38f2a172",
   "metadata": {},
   "outputs": [
    {
     "name": "stdout",
     "output_type": "stream",
     "text": [
      "Released Video Resource from KeyboardInterrupt\n"
     ]
    }
   ],
   "source": [
    "import cv2\n",
    "import numpy as np\n",
    "from IPython import display\n",
    "from PIL import Image\n",
    "import time\n",
    "\n",
    "\n",
    "\n",
    "def showVideo():\n",
    "    try:\n",
    "        cap = cv2.VideoCapture('nvarguscamerasrc ! video/x-raw(memory:NVMM), width=3280, height=2464, format=NV12,framerate=21/1 ! nvvidconv flip-method=0 ! video/x-raw, width=320, height=240, format=BGRx ! videoconvert ! video/x-raw,format=BGR ! appsink')\n",
    "    except:\n",
    "        print(\"Cannot Open Device\")\n",
    "    try:\n",
    "        ret, frame = cap.read()\n",
    "        \n",
    "        fps = 0\n",
    "    \n",
    "        fps_out = 0\n",
    "\n",
    "        tempo = 0 \n",
    "\n",
    "        tempo_mais_um = 0\n",
    "        \n",
    "        while(ret==True):\n",
    "            ret, frame = cap.read()\n",
    "            \n",
    "            if not ret:\n",
    "                cap.release()\n",
    "                print (\"Released Video Resource\")\n",
    "                break\n",
    "                \n",
    "            _,ret_array = cv2.imencode('.jpg', frame)\n",
    "            \n",
    "            cv2.imwrite(\"frame.jpg\",frame)\n",
    "            \n",
    "            img_read_frame = cv2.imread(\"frame.jpg\")\n",
    "            \n",
    "            im_rgb = cv2.cvtColor(frame, cv2.COLOR_BGR2RGB)\n",
    "            \n",
    "            _,img_jpg = cv2.imencode('.jpg', im_rgb)\n",
    "            \n",
    "            hsv = cv2.cvtColor(frame, cv2.COLOR_BGR2HSV)# (frame) to (hsv)\n",
    "            \n",
    "            mask_red = cv2.inRange(hsv,(0, 40, 100), (20, 180, 180)) # (hsv) to (frame)\n",
    "            \n",
    "             # fps count\n",
    "            tempo = time.time()\n",
    "            fps = fps + 1 \n",
    "        \n",
    "            if tempo >= tempo_mais_um:\n",
    "                fps_out = fps\n",
    "                fps = 0\n",
    "                tempo_mais_um = tempo + 1\n",
    "            \n",
    "            #print(\"frames:\"+str(fps_out))\n",
    "            #image imputs: (frame), (img_read_frame)\n",
    "            \n",
    "            img_out = cv2.putText(mask_red,(\"frames:\"+str(fps_out)),(30, 130),cv2.FONT_HERSHEY_SIMPLEX,0.75,(255, 255, 255),2, cv2.LINE_AA)\n",
    "            \n",
    "            _,img_out = cv2.imencode('.jpg', img_out)\n",
    "            \n",
    "            i = display.Image(data=img_out)\n",
    "            display.display(i)\n",
    "            display.clear_output(wait=True)\n",
    "            \n",
    "            \n",
    "    except KeyboardInterrupt:\n",
    "        cap.release()\n",
    "        print(\"Released Video Resource from KeyboardInterrupt\")\n",
    "        \n",
    "showVideo()"
   ]
  },
  {
   "cell_type": "code",
   "execution_count": null,
   "id": "15df7bdb",
   "metadata": {},
   "outputs": [],
   "source": []
  },
  {
   "cell_type": "code",
   "execution_count": null,
   "id": "fe0f46e6",
   "metadata": {},
   "outputs": [],
   "source": []
  }
 ],
 "metadata": {
  "kernelspec": {
   "display_name": "Python 3 (ipykernel)",
   "language": "python",
   "name": "python3"
  },
  "language_info": {
   "codemirror_mode": {
    "name": "ipython",
    "version": 3
   },
   "file_extension": ".py",
   "mimetype": "text/x-python",
   "name": "python",
   "nbconvert_exporter": "python",
   "pygments_lexer": "ipython3",
   "version": "3.8.10"
  }
 },
 "nbformat": 4,
 "nbformat_minor": 5
}
