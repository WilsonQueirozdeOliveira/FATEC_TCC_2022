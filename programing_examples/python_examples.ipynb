{
 "cells": [
  {
   "cell_type": "markdown",
   "metadata": {},
   "source": [
    "Python Version"
   ]
  },
  {
   "cell_type": "code",
   "execution_count": 1,
   "metadata": {},
   "outputs": [
    {
     "name": "stdout",
     "output_type": "stream",
     "text": [
      "3.6.9 |Anaconda, Inc.| (default, Jul 30 2019, 14:00:49) [MSC v.1915 64 bit (AMD64)]\n"
     ]
    }
   ],
   "source": [
    "import sys\n",
    "print(sys.version)"
   ]
  },
  {
   "cell_type": "markdown",
   "metadata": {},
   "source": [
    "Sum"
   ]
  },
  {
   "cell_type": "code",
   "execution_count": 2,
   "metadata": {},
   "outputs": [
    {
     "name": "stdout",
     "output_type": "stream",
     "text": [
      "4\n"
     ]
    }
   ],
   "source": [
    "i = 3+1\n",
    "print(i)"
   ]
  },
  {
   "cell_type": "markdown",
   "metadata": {},
   "source": [
    "Widgets"
   ]
  },
  {
   "cell_type": "code",
   "execution_count": 3,
   "metadata": {},
   "outputs": [],
   "source": [
    "import ipywidgets as widgets\n",
    "from IPython import display"
   ]
  },
  {
   "cell_type": "markdown",
   "metadata": {},
   "source": [
    "Opencv"
   ]
  },
  {
   "cell_type": "code",
   "execution_count": 4,
   "metadata": {},
   "outputs": [
    {
     "name": "stdout",
     "output_type": "stream",
     "text": [
      "<PIL.Image.Image image mode=RGB size=160x120 at 0x1D7CD334588>\n",
      "<PIL.Image.Image image mode=RGB size=80x60 at 0x1D7CD341DA0>\n"
     ]
    },
    {
     "data": {
      "image/png": "[encoded data removed]",
      "text/plain": [
       "<PIL.Image.Image image mode=RGB size=160x120 at 0x1D7CD334588>"
      ]
     },
     "metadata": {},
     "output_type": "display_data"
    },
    {
     "data": {
      "image/png": "[encoded data removed]",
      "text/plain": [
       "<PIL.Image.Image image mode=RGB size=80x60 at 0x1D7CD341DA0>"
      ]
     },
     "metadata": {},
     "output_type": "display_data"
    }
   ],
   "source": [
    "import cv2 as cv\n",
    "import numpy as np\n",
    "from IPython import display\n",
    "import PIL.Image\n",
    "\n",
    "img_1 = np.zeros((120,160,3), dtype=np.uint8)\n",
    "\n",
    "img_2 = np.zeros((60,80,3), dtype=np.uint8)\n",
    "\n",
    "img_1 = PIL.Image.fromarray(img_1)\n",
    "img_2 = PIL.Image.fromarray(img_2)\n",
    "\n",
    "print(img_1)\n",
    "print(img_2)\n",
    "\n",
    "display.display(img_1,img_2)"
   ]
  },
  {
   "cell_type": "markdown",
   "metadata": {},
   "source": [
    "Empty image sample"
   ]
  },
  {
   "cell_type": "code",
   "execution_count": 5,
   "metadata": {},
   "outputs": [
    {
     "data": {
      "image/png": "[encoded data removed]",
      "text/plain": [
       "<IPython.core.display.Image object>"
      ]
     },
     "metadata": {},
     "output_type": "display_data"
    }
   ],
   "source": [
    "import numpy as np\n",
    "import cv2\n",
    "from IPython import display\n",
    "from PIL import Image\n",
    "\n",
    "img = np.zeros((120,160),np.uint8)\n",
    "_,ret_array = cv2.imencode('.jpg',img)\n",
    "i = display.Image(data=ret_array)\n",
    "display.display(i)"
   ]
  },
  {
   "cell_type": "markdown",
   "metadata": {},
   "source": [
    "image overlay"
   ]
  },
  {
   "cell_type": "code",
   "execution_count": 6,
   "metadata": {},
   "outputs": [
    {
     "data": {
      "image/png": "[encoded data removed]",
      "text/plain": [
       "<IPython.core.display.Image object>"
      ]
     },
     "metadata": {},
     "output_type": "display_data"
    },
    {
     "data": {
      "image/png": "[encoded data removed]",
      "text/plain": [
       "<IPython.core.display.Image object>"
      ]
     },
     "metadata": {},
     "output_type": "display_data"
    },
    {
     "data": {
      "image/png": "[encoded data removed]",
      "text/plain": [
       "<IPython.core.display.Image object>"
      ]
     },
     "metadata": {},
     "output_type": "display_data"
    }
   ],
   "source": [
    "import numpy as np\n",
    "import cv2\n",
    "from IPython import display\n",
    "from PIL import Image\n",
    "import sys\n",
    "\n",
    "#image 120x160\n",
    "image = np.zeros((120,160),dtype=np.uint8)\n",
    "cv2.imwrite(\"image.jpg\",image)\n",
    "image=cv2.imread(\"image.jpg\", -1)\n",
    "\n",
    "#logo 60x80\n",
    "logo = np.full((60,80),150,dtype=np.uint8)\n",
    "cv2.imwrite(\"logo.jpg\",logo)\n",
    "logo=cv2.imread(\"logo.jpg\", -1)\n",
    "\n",
    "x=40\n",
    "y=30\n",
    "\n",
    "image_2 =image.copy()\n",
    "image_2[y:y+logo.shape[0], x:x+logo.shape[1]]=logo\n",
    "\n",
    "_,image = cv2.imencode('.jpg', image)\n",
    "_,logo = cv2.imencode('.jpg', logo)\n",
    "_,image_2 = cv2.imencode('.jpg', image_2)\n",
    "\n",
    "image = display.Image(data=image)\n",
    "logo = display.Image(data=logo)\n",
    "image_2 = display.Image(data=image_2)\n",
    "\n",
    "display.display(image,logo,image_2)"
   ]
  },
  {
   "cell_type": "markdown",
   "metadata": {},
   "source": [
    "Capture WebCam"
   ]
  },
  {
   "cell_type": "code",
   "execution_count": null,
   "metadata": {},
   "outputs": [],
   "source": [
    "import cv2\n",
    "import numpy as np\n",
    "from IPython import display\n",
    "from PIL import Image\n",
    "\n",
    "def showVideo():\n",
    "    try:\n",
    "        cap = cv2.VideoCapture(0)\n",
    "    except:\n",
    "        print(\"Cannot Open Device\")\n",
    "    try:\n",
    "        ret, frame = cap.read()\n",
    "        \n",
    "        while(ret==True):\n",
    "            ret, frame = cap.read()\n",
    "            \n",
    "            if not ret:\n",
    "                cap.release()\n",
    "                print (\"Released Video Resource\")\n",
    "                break\n",
    "                \n",
    "            _,ret_array = cv2.imencode('.jpg', frame) \n",
    "            i = display.Image(data=ret_array)\n",
    "            display.display(i)\n",
    "            display.clear_output(wait=True)\n",
    "            \n",
    "    except KeyboardInterrupt:\n",
    "        cap.release()\n",
    "        print(\"Released Video Resource from KeyboardInterrupt\")\n",
    "        \n",
    "showVideo()"
   ]
  },
  {
   "cell_type": "markdown",
   "metadata": {},
   "source": [
    "Pytorch"
   ]
  },
  {
   "cell_type": "code",
   "execution_count": 7,
   "metadata": {},
   "outputs": [],
   "source": [
    "import torch"
   ]
  },
  {
   "cell_type": "markdown",
   "metadata": {},
   "source": [
    "Torchvision"
   ]
  },
  {
   "cell_type": "code",
   "execution_count": 8,
   "metadata": {},
   "outputs": [],
   "source": [
    "import torchvision"
   ]
  },
  {
   "cell_type": "markdown",
   "metadata": {},
   "source": [
    "GUI with PyQt6"
   ]
  },
  {
   "cell_type": "code",
   "execution_count": null,
   "metadata": {},
   "outputs": [],
   "source": [
    "import sys \n",
    "from PyQt6.QtWidgets import *\n",
    "from PyQt6.QtGui import QIcon\n",
    "\n",
    "class JanelaPrincipal(QWidget):\n",
    "    def __init__(self):\n",
    "        super().__init__()\n",
    "        self.setWindowTitle('Sistema')\n",
    "        self.setWindowIcon(QIcon('logo_wilson_eletrica.jpg'))\n",
    "        self.setGeometry(150, 80, 1000, 600)\n",
    "        self.Interface()\n",
    "\n",
    "        self.show()\n",
    "\n",
    "    def Interface(self):\n",
    "        texto1 = QLabel('Hello World!!!', self)\n",
    "        texto1.resize(100,25)\n",
    "        texto1.move(5,2)\n",
    "\n",
    "        self.texto2 = QLabel('Wilson Queiroz!!!', self)\n",
    "        self.texto2.resize(125,25)\n",
    "        self.texto2.move(100,2)\n",
    "        \n",
    "        botao1 = QPushButton('SAIR', self)\n",
    "        botao1.resize(100,50)\n",
    "        botao1.move(800,500)\n",
    "        botao1.clicked.connect(self.sair)\n",
    "        \n",
    "        botao2 = QPushButton('MAIUSCULO', self)\n",
    "        botao2.resize(100,50)\n",
    "        botao2.move(100,50)\n",
    "        botao2.clicked.connect(self.maiusculo)\n",
    "        \n",
    "        botao3 = QPushButton('minusculo', self)\n",
    "        botao3.resize(100,50)\n",
    "        botao3.move(200,50)\n",
    "        botao3.clicked.connect(self.minusculo)\n",
    "        \n",
    "        self.caixa_texto1 = QLineEdit(self)\n",
    "        self.caixa_texto1.move(300,50)\n",
    "        \n",
    "    def sair(self):\n",
    "        sys.exit(qt.exec())\n",
    "        \n",
    "    def maiusculo(self):\n",
    "        self.texto2.setText('WILSON QUEIROZ!!!')\n",
    "        self.texto2.resize(300,25)\n",
    "        self.texto2.move(150,2)\n",
    "        \n",
    "    def minusculo(self):\n",
    "        self.texto2.setText('wilson queiroz!!!')\n",
    "        self.texto2.resize(125,25)\n",
    "        self.texto2.move(100,2)\n",
    "        \n",
    "qt = QApplication(sys.argv)\n",
    "app = JanelaPrincipal()\n",
    "sys.exit(qt.exec())"
   ]
  },
  {
   "cell_type": "code",
   "execution_count": null,
   "metadata": {},
   "outputs": [],
   "source": []
  }
 ],
 "metadata": {
  "kernelspec": {
   "display_name": "Python 3",
   "language": "python",
   "name": "python3"
  },
  "language_info": {
   "codemirror_mode": {
    "name": "ipython",
    "version": 3
   },
   "file_extension": ".py",
   "mimetype": "text/x-python",
   "name": "python",
   "nbconvert_exporter": "python",
   "pygments_lexer": "ipython3",
   "version": "3.6.9"
  }
 },
 "nbformat": 4,
 "nbformat_minor": 4
}
