{
 "cells": [
  {
   "cell_type": "markdown",
   "metadata": {},
   "source": [
    "Python Version"
   ]
  },
  {
   "cell_type": "code",
   "execution_count": 1,
   "metadata": {},
   "outputs": [
    {
     "name": "stdout",
     "output_type": "stream",
     "text": [
      "3.6.9 |Anaconda, Inc.| (default, Jul 30 2019, 14:00:49) [MSC v.1915 64 bit (AMD64)]\n"
     ]
    }
   ],
   "source": [
    "import sys\n",
    "print(sys.version)"
   ]
  },
  {
   "cell_type": "markdown",
   "metadata": {},
   "source": [
    "Sum"
   ]
  },
  {
   "cell_type": "code",
   "execution_count": 2,
   "metadata": {},
   "outputs": [
    {
     "name": "stdout",
     "output_type": "stream",
     "text": [
      "4\n"
     ]
    }
   ],
   "source": [
    "i = 3+1\n",
    "print(i)"
   ]
  },
  {
   "cell_type": "markdown",
   "metadata": {},
   "source": [
    "Widgets"
   ]
  },
  {
   "cell_type": "code",
   "execution_count": 3,
   "metadata": {},
   "outputs": [],
   "source": [
    "import time\n",
    "import sys\n",
    "import os\n",
    "\n",
    "import threading\n",
    "\n",
    "#Display clontrol library\n",
    "from IPython import display\n",
    "from ipywidgets import Button, HBox, VBox, Layout, Label, IntSlider\n",
    "import ipywidgets as widgets\n",
    "import ipywidgets\n",
    "from IPython.display import display, clear_output"
   ]
  },
  {
   "cell_type": "markdown",
   "metadata": {},
   "source": [
    "control widgets"
   ]
  },
  {
   "cell_type": "code",
   "execution_count": 4,
   "metadata": {
    "scrolled": false
   },
   "outputs": [
    {
     "data": {
      "application/vnd.jupyter.widget-view+json": {
       "model_id": "a3a7b967c4b14c9f8153d3ad41661efd",
       "version_major": 2,
       "version_minor": 0
      },
      "text/plain": [
       "HBox(children=(VBox(children=(Label(value='Lateral Control:'), FloatSlider(value=307.0, continuous_update=Fals…"
      ]
     },
     "metadata": {},
     "output_type": "display_data"
    }
   ],
   "source": [
    "# lateral control with buttons\n",
    "\n",
    "# left\n",
    "button1 = Button(description='left',\n",
    "           layout=Layout(width='33%', height='70px'))\n",
    "# s_forward\n",
    "button2 = Button(description='s_forward',\n",
    "           layout=Layout(width='33%', height='70px'))\n",
    "# right\n",
    "button3 = Button(description='right',\n",
    "           layout=Layout(width='33%', height='70px'))\n",
    "\n",
    "hbox1 = HBox([button1,button2,button3])\n",
    "\n",
    "# lateral control with slider\n",
    "\n",
    "slider1 = widgets.FloatSlider(\n",
    "            value=307.0,\n",
    "            min=245.0,\n",
    "            max=370.0,\n",
    "            step=1.0,\n",
    "            description='steering:',\n",
    "            disabled=False,\n",
    "            continuous_update=False,\n",
    "            orientation='horizontal',\n",
    "            readout=True,\n",
    "            readout_format='.1f'\n",
    "        )\n",
    "\n",
    "vbox_1_Lateral_control_display = VBox([Label('Lateral Control:'), slider1, hbox1])# create the Lateral_control_display\n",
    "\n",
    "\n",
    "# longitudinal control\n",
    "\n",
    "# reverse\n",
    "button4 = Button(description='reverse',\n",
    "           layout=Layout(width='33%', height='70px'))\n",
    "# stop\n",
    "button5 = Button(description='stop',\n",
    "            button_style= 'danger',\n",
    "            layout=Layout(width='33%', height='70px'))\n",
    "# p_forward\n",
    "button6 = Button(description='p_forward',\n",
    "           layout=Layout(width='33%', height='70px'))\n",
    "\n",
    "hbox2 = HBox([button4,button5,button6])\n",
    "\n",
    "# longitudinal control with slider max=350\n",
    "slider2 = widgets.FloatSlider(\n",
    "            value=330.0,\n",
    "            min=320.0,\n",
    "            max=350.0,\n",
    "            step=1.0,\n",
    "            description='power:',\n",
    "            disabled=False,\n",
    "            continuous_update=False,\n",
    "            orientation='horizontal',\n",
    "            readout=True,\n",
    "            readout_format='.1f'\n",
    "        )\n",
    "\n",
    "vbox_2_Longitudinal_control_display = VBox([Label('Longitudinal Control:'), slider2, hbox2])# create the Lateral_control_display\n",
    "\n",
    "output = widgets.Output()\n",
    "\n",
    "#clear output button\n",
    "button7 = Button(description='clear',\n",
    "           layout=Layout(width='70px', height='70px'))\n",
    "\n",
    "# manual/auto\n",
    "button8 = ipywidgets.ToggleButton(description='Auto',\n",
    "            button_style='info', \n",
    "            layout=Layout(width='70px', height='70px'))\n",
    "\n",
    "vbox_3 = VBox([button7,button8])\n",
    "\n",
    "hbox3 = HBox([vbox_1_Lateral_control_display,vbox_2_Longitudinal_control_display,vbox_3,output]) \n",
    "\n",
    "# End display all\n",
    "display(hbox3)# End display all\n",
    "\n",
    "# Now all the functions to control\n",
    "\n",
    "# steering functions\n",
    "\n",
    "def on_button1_clicked(b):\n",
    "    with output:\n",
    "        value = 370\n",
    "        print(\"left:\",value)\n",
    "\n",
    "button1.on_click(on_button1_clicked)\n",
    "\n",
    "def on_button2_clicked(b):\n",
    "    with output:\n",
    "        value = 307\n",
    "        print(\"s_forward:\",value)\n",
    "\n",
    "button2.on_click(on_button2_clicked)\n",
    "\n",
    "def on_button3_clicked(b):\n",
    "    with output:\n",
    "        value = 245\n",
    "        print(\"right:\",value)\n",
    "\n",
    "button3.on_click(on_button3_clicked)\n",
    "\n",
    "def on_slider1_change(change):\n",
    "    with output:\n",
    "        print(\"steering:\",change['new'])\n",
    "\n",
    "slider1.observe(on_slider1_change, names='value')\n",
    "\n",
    "\n",
    "#control motor power functions\n",
    "\n",
    "# reverse button control\n",
    "def on_button4_clicked(b):\n",
    "    with output:\n",
    "        value = 320\n",
    "        print(\"reverse:\",value)\n",
    "\n",
    "button4.on_click(on_button4_clicked)\n",
    "\n",
    "#stop button function\n",
    "def on_button5_clicked(b):\n",
    "    with output:\n",
    "        value = 330\n",
    "        print(\"stop:\",value)\n",
    "\n",
    "button5.on_click(on_button5_clicked)\n",
    "\n",
    "# power button control function\n",
    "def on_button6_clicked(b):\n",
    "    with output:\n",
    "        value = 345\n",
    "        print(\"p_forward:\",value)\n",
    "        \n",
    "button6.on_click(on_button6_clicked)\n",
    "\n",
    "# power control slider\n",
    "def on_slider2_change(change):\n",
    "    with output:\n",
    "        print(\"power:\",change['new'])\n",
    "\n",
    "slider2.observe(on_slider2_change, names='value')\n",
    "\n",
    "#clear output funcition\n",
    "def on_button7_clicked(b):\n",
    "    output.clear_output()\n",
    "    pass\n",
    "\n",
    "button7.on_click(on_button7_clicked)\n",
    "\n",
    "# manual/auto\n",
    "def on_button8_clicked(change):\n",
    "    with output:\n",
    "        print('auto:',change['new'])\n",
    "\n",
    "\n",
    "button8.observe(on_button8_clicked, 'value')\n",
    "\n",
    "def auto(change):\n",
    "    with output:\n",
    "        if(change['new']==True):\n",
    "            print(\"loop:\",change['new'])\n",
    "            execute_thread = threading.Thread(target=loop, args=(button8,))\n",
    "            execute_thread.start()\n",
    "        \n",
    "        \n",
    "def loop(button8):\n",
    "    with output:\n",
    "        count = 1\n",
    "        while(button8.value==True):\n",
    "            time.sleep(1)\n",
    "            print(\"loop:\",count)\n",
    "            count = count + 1\n",
    "        \n",
    "button8.observe(auto,'value')"
   ]
  },
  {
   "cell_type": "markdown",
   "metadata": {},
   "source": [
    "Opencv"
   ]
  },
  {
   "cell_type": "code",
   "execution_count": 5,
   "metadata": {},
   "outputs": [
    {
     "name": "stdout",
     "output_type": "stream",
     "text": [
      "<PIL.Image.Image image mode=RGB size=160x120 at 0x1717EF9C128>\n",
      "<PIL.Image.Image image mode=RGB size=80x60 at 0x1717EFA7940>\n"
     ]
    },
    {
     "data": {
      "image/png": "[encoded data removed]",
      "text/plain": [
       "<PIL.Image.Image image mode=RGB size=160x120 at 0x1717EF9C128>"
      ]
     },
     "metadata": {},
     "output_type": "display_data"
    },
    {
     "data": {
      "image/png": "[encoded data removed]",
      "text/plain": [
       "<PIL.Image.Image image mode=RGB size=80x60 at 0x1717EFA7940>"
      ]
     },
     "metadata": {},
     "output_type": "display_data"
    }
   ],
   "source": [
    "import cv2 as cv\n",
    "import numpy as np\n",
    "from IPython import display\n",
    "import PIL.Image\n",
    "\n",
    "img_1 = np.zeros((120,160,3), dtype=np.uint8)\n",
    "\n",
    "img_2 = np.zeros((60,80,3), dtype=np.uint8)\n",
    "\n",
    "img_1 = PIL.Image.fromarray(img_1)\n",
    "img_2 = PIL.Image.fromarray(img_2)\n",
    "\n",
    "print(img_1)\n",
    "print(img_2)\n",
    "\n",
    "display.display(img_1,img_2)"
   ]
  },
  {
   "cell_type": "markdown",
   "metadata": {},
   "source": [
    "Empty image sample"
   ]
  },
  {
   "cell_type": "code",
   "execution_count": 6,
   "metadata": {},
   "outputs": [
    {
     "data": {
      "image/png": "[encoded data removed]",
      "text/plain": [
       "<IPython.core.display.Image object>"
      ]
     },
     "metadata": {},
     "output_type": "display_data"
    }
   ],
   "source": [
    "import numpy as np\n",
    "import cv2\n",
    "from IPython import display\n",
    "from PIL import Image\n",
    "\n",
    "img = np.zeros((120,160),np.uint8)\n",
    "_,ret_array = cv2.imencode('.jpg',img)\n",
    "i = display.Image(data=ret_array)\n",
    "display.display(i)"
   ]
  },
  {
   "cell_type": "markdown",
   "metadata": {},
   "source": [
    "image overlay"
   ]
  },
  {
   "cell_type": "code",
   "execution_count": 7,
   "metadata": {},
   "outputs": [
    {
     "data": {
      "image/png": "[encoded data removed]",
      "text/plain": [
       "<IPython.core.display.Image object>"
      ]
     },
     "metadata": {},
     "output_type": "display_data"
    },
    {
     "data": {
      "image/png": "[encoded data removed]",
      "text/plain": [
       "<IPython.core.display.Image object>"
      ]
     },
     "metadata": {},
     "output_type": "display_data"
    },
    {
     "data": {
      "image/png": "[encoded data removed]",
      "text/plain": [
       "<IPython.core.display.Image object>"
      ]
     },
     "metadata": {},
     "output_type": "display_data"
    }
   ],
   "source": [
    "import numpy as np\n",
    "import cv2\n",
    "from IPython import display\n",
    "from PIL import Image\n",
    "import sys\n",
    "\n",
    "#image 120x160\n",
    "image = np.zeros((120,160),dtype=np.uint8)\n",
    "cv2.imwrite(\"image.jpg\",image)\n",
    "image=cv2.imread(\"image.jpg\", -1)\n",
    "\n",
    "#logo 60x80\n",
    "logo = np.full((60,80),150,dtype=np.uint8)\n",
    "cv2.imwrite(\"logo.jpg\",logo)\n",
    "logo=cv2.imread(\"logo.jpg\", -1)\n",
    "\n",
    "x=40\n",
    "y=30\n",
    "\n",
    "image_2 =image.copy()\n",
    "image_2[y:y+logo.shape[0], x:x+logo.shape[1]]=logo\n",
    "\n",
    "_,image = cv2.imencode('.jpg', image)\n",
    "_,logo = cv2.imencode('.jpg', logo)\n",
    "_,image_2 = cv2.imencode('.jpg', image_2)\n",
    "\n",
    "image = display.Image(data=image)\n",
    "logo = display.Image(data=logo)\n",
    "image_2 = display.Image(data=image_2)\n",
    "\n",
    "display.display(image,logo,image_2)"
   ]
  },
  {
   "cell_type": "markdown",
   "metadata": {},
   "source": [
    "Capture WebCam"
   ]
  },
  {
   "cell_type": "code",
   "execution_count": 8,
   "metadata": {
    "scrolled": false
   },
   "outputs": [
    {
     "name": "stdout",
     "output_type": "stream",
     "text": [
      "Released Video Resource from KeyboardInterrupt\n"
     ]
    }
   ],
   "source": [
    "import cv2\n",
    "import numpy as np\n",
    "from IPython import display\n",
    "from PIL import Image\n",
    "\n",
    "def showVideo():\n",
    "    try:\n",
    "        cap = cv2.VideoCapture(0)\n",
    "    except:\n",
    "        print(\"Cannot Open Device\")\n",
    "    try:\n",
    "        ret, frame = cap.read()\n",
    "        \n",
    "        while(ret==True):\n",
    "            ret, frame = cap.read()\n",
    "            \n",
    "            if not ret:\n",
    "                cap.release()\n",
    "                print (\"Released Video Resource\")\n",
    "                break\n",
    "                \n",
    "            _,ret_array = cv2.imencode('.jpg', frame) \n",
    "            i = display.Image(data=ret_array)\n",
    "            display.display(i)\n",
    "            display.clear_output(wait=True)\n",
    "            \n",
    "    except KeyboardInterrupt:\n",
    "        cap.release()\n",
    "        print(\"Released Video Resource from KeyboardInterrupt\")\n",
    "        \n",
    "showVideo()"
   ]
  },
  {
   "cell_type": "markdown",
   "metadata": {},
   "source": [
    "Pytorch"
   ]
  },
  {
   "cell_type": "code",
   "execution_count": 7,
   "metadata": {},
   "outputs": [],
   "source": [
    "import torch"
   ]
  },
  {
   "cell_type": "markdown",
   "metadata": {},
   "source": [
    "Torchvision"
   ]
  },
  {
   "cell_type": "code",
   "execution_count": 8,
   "metadata": {},
   "outputs": [],
   "source": [
    "import torchvision"
   ]
  },
  {
   "cell_type": "markdown",
   "metadata": {},
   "source": [
    "GUI with PyQt6"
   ]
  },
  {
   "cell_type": "code",
   "execution_count": null,
   "metadata": {},
   "outputs": [],
   "source": [
    "import sys \n",
    "from PyQt6.QtWidgets import *\n",
    "from PyQt6.QtGui import *\n",
    "\n",
    "class JanelaPrincipal(QWidget):\n",
    "    def __init__(self):\n",
    "        super().__init__()\n",
    "        self.setWindowTitle('Sistema')\n",
    "        self.setWindowIcon(QIcon('logo_wilson_eletrica.jpg'))\n",
    "        self.setGeometry(150, 80, 1000, 600)\n",
    "        self.Interface()\n",
    "\n",
    "        self.show()\n",
    "\n",
    "    def Interface(self):\n",
    "        self.fundo = QLabel(self)\n",
    "        self.fundo.setPixmap(QPixmap('fundo.jpg'))\n",
    "        \n",
    "        self.img = QLabel(self)\n",
    "        self.img.setPixmap(QPixmap('esteira.jpg'))\n",
    "        self.img.move(200,200)\n",
    "        self.img.resize(200,200)\n",
    "        \n",
    "        botao1 = QPushButton('SAIR', self)\n",
    "        botao1.resize(100,50)\n",
    "        botao1.move(800,500)\n",
    "        botao1.clicked.connect(self.sair)\n",
    "        \n",
    "        botao2 = QPushButton('MAIUSCULO', self)\n",
    "        botao2.resize(100,25)\n",
    "        botao2.move(5,50)\n",
    "        botao2.clicked.connect(self.maiusculo)\n",
    "        \n",
    "        botao3 = QPushButton('minusculo', self)\n",
    "        botao3.resize(100,25)\n",
    "        botao3.move(110,50)\n",
    "        botao3.clicked.connect(self.minusculo)\n",
    "        \n",
    "        botao4 = QPushButton('Entrar', self)\n",
    "        botao4.resize(100,25)\n",
    "        botao4.move(50,175)\n",
    "        botao4.clicked.connect(self.salva_dados)\n",
    "        \n",
    "        texto1 = QLabel('Hello World!!!', self)\n",
    "        texto1.resize(100,25)\n",
    "        texto1.move(5,2)\n",
    "\n",
    "        self.texto2 = QLabel('Wilson Queiroz!!!', self)\n",
    "        self.texto2.resize(125,25)\n",
    "        self.texto2.move(5,25)\n",
    "        \n",
    "        texto3 = QLabel('Login', self)\n",
    "        texto3.resize(100,25)\n",
    "        texto3.move(25,100)\n",
    "        \n",
    "        texto4 = QLabel('Senha', self)\n",
    "        texto4.resize(100,25)\n",
    "        texto4.move(25,130)\n",
    "        \n",
    "        self.caixa_texto1 = QLineEdit(self)\n",
    "        self.caixa_texto1.setPlaceholderText('usuário')\n",
    "        self.caixa_texto1.resize(100,25)\n",
    "        self.caixa_texto1.move(75,100)\n",
    "                \n",
    "        self.caixa_texto2 = QLineEdit(self)\n",
    "        self.caixa_texto2.setPlaceholderText('senha')\n",
    "        self.caixa_texto2.setEchoMode(QLineEdit.EchoMode.Password)\n",
    "        self.caixa_texto2.resize(100,25)\n",
    "        self.caixa_texto2.move(75,130)\n",
    "        \n",
    "    def sair(self):\n",
    "        sys.exit(qt.exec())\n",
    "        \n",
    "    def maiusculo(self):\n",
    "        self.texto2.setText('WILSON QUEIROZ!!!')\n",
    "        self.texto2.resize(300,25)\n",
    "        self.texto2.move(5,25)\n",
    "        \n",
    "    def minusculo(self):\n",
    "        self.texto2.setText('wilson queiroz!!!')\n",
    "        self.texto2.resize(125,25)\n",
    "        self.texto2.move(5,25)\n",
    "        \n",
    "    def salva_dados(self):\n",
    "        base = []\n",
    "        base.append(self.caixa_texto1.text())\n",
    "        base.append(self.caixa_texto2.text())\n",
    "        print(base)\n",
    "        \n",
    "qt = QApplication(sys.argv)\n",
    "app = JanelaPrincipal()\n",
    "sys.exit(qt.exec())"
   ]
  },
  {
   "cell_type": "markdown",
   "metadata": {},
   "source": [
    "color detection #https://alloyui.com/examples/color-picker/hsv.html"
   ]
  },
  {
   "cell_type": "markdown",
   "metadata": {},
   "source": [
    "orange"
   ]
  },
  {
   "cell_type": "code",
   "execution_count": 89,
   "metadata": {},
   "outputs": [
    {
     "name": "stdout",
     "output_type": "stream",
     "text": [
      "[[0 0 0 ... 0 0 0]\n",
      " [0 0 0 ... 0 0 0]\n",
      " [0 0 0 ... 0 0 0]\n",
      " ...\n",
      " [0 0 0 ... 0 0 0]\n",
      " [0 0 0 ... 0 0 0]\n",
      " [0 0 0 ... 0 0 0]]\n"
     ]
    },
    {
     "data": {
      "image/png": "[encoded data removed]",
      "text/plain": [
       "<IPython.core.display.Image object>"
      ]
     },
     "metadata": {},
     "output_type": "display_data"
    }
   ],
   "source": [
    "#!/usr/bin/python3\n",
    "import cv2\n",
    "import numpy as np\n",
    "from IPython import display\n",
    "from PIL import Image\n",
    "\n",
    "img = cv2.imread(\"color_test_1.png\")\n",
    "hsv = cv2.cvtColor(img, cv2.COLOR_BGR2HSV)\n",
    "mask = cv2.inRange(hsv,(2, 100, 90), (4, 255, 200) )#hsv(23, 96, 100)\n",
    "#cv2.imshow(\"orange\", mask);cv2.waitKey();cv2.destroyAllWindows()\n",
    "print(mask)\n",
    "cv2.imwrite(\"mask_orange.jpg\",mask)\n",
    "mask=cv2.imread(\"mask_orange.jpg\", -1)\n",
    "\n",
    "_,mask = cv2.imencode('.jpg', mask)\n",
    "i = display.Image(data=mask)\n",
    "display.display(i)"
   ]
  },
  {
   "cell_type": "markdown",
   "metadata": {},
   "source": [
    "green"
   ]
  },
  {
   "cell_type": "code",
   "execution_count": 90,
   "metadata": {},
   "outputs": [
    {
     "name": "stdout",
     "output_type": "stream",
     "text": [
      "[[0 0 0 ... 0 0 0]\n",
      " [0 0 0 ... 0 0 0]\n",
      " [0 0 0 ... 0 0 0]\n",
      " ...\n",
      " [0 0 0 ... 0 0 0]\n",
      " [0 0 0 ... 0 0 0]\n",
      " [0 0 0 ... 0 0 0]]\n"
     ]
    },
    {
     "data": {
      "image/png": "[encoded data removed]",
      "text/plain": [
       "<IPython.core.display.Image object>"
      ]
     },
     "metadata": {},
     "output_type": "display_data"
    }
   ],
   "source": [
    "#!/usr/bin/python3\n",
    "import cv2\n",
    "import numpy as np\n",
    "from IPython import display\n",
    "from PIL import Image\n",
    "\n",
    "img = cv2.imread(\"color_test_1.png\")\n",
    "hsv = cv2.cvtColor(img, cv2.COLOR_BGR2HSV)\n",
    "mask = cv2.inRange(hsv,(30, 30, 10), (60, 255, 255) )#hsv(23, 96, 100)\n",
    "#cv2.imshow(\"orange\", mask);cv2.waitKey();cv2.destroyAllWindows()\n",
    "\n",
    "print(mask)\n",
    "cv2.imwrite(\"mask_green.jpg\",mask)\n",
    "mask=cv2.imread(\"mask_green.jpg\", -1)\n",
    "\n",
    "_,mask = cv2.imencode('.jpg', mask)\n",
    "i = display.Image(data=mask)\n",
    "display.display(i)"
   ]
  }
 ],
 "metadata": {
  "kernelspec": {
   "display_name": "Python 3",
   "language": "python",
   "name": "python3"
  },
  "language_info": {
   "codemirror_mode": {
    "name": "ipython",
    "version": 3
   },
   "file_extension": ".py",
   "mimetype": "text/x-python",
   "name": "python",
   "nbconvert_exporter": "python",
   "pygments_lexer": "ipython3",
   "version": "3.6.9"
  }
 },
 "nbformat": 4,
 "nbformat_minor": 4
}
